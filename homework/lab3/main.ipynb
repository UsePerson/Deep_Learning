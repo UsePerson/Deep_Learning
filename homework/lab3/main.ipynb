{
 "cells": [
  {
   "cell_type": "code",
   "execution_count": 1,
   "id": "announced-light",
   "metadata": {},
   "outputs": [],
   "source": [
    "from NN import nn\n",
    "import pandas as pd\n",
    "import numpy as np\n",
    "# import pandas as pd\n",
    "\n",
    "train_data = np.loadtxt('./train/train_img.txt',delimiter=',')\n",
    "train_label = np.loadtxt('./train/train_label.txt', delimiter=',')\n",
    "train_data = np.array(train_data)\n",
    "train_label = pd.get_dummies(train_label)\n",
    "\n",
    "train = np.append(train_data, np.array(train_label),axis=1)\n"
   ]
  },
  {
   "cell_type": "code",
   "execution_count": 2,
   "id": "solid-extreme",
   "metadata": {},
   "outputs": [],
   "source": [
    "NN = nn()\n",
    "NN.add_layer(np.size(train_data, 1), 64)\n",
    "NN.add_layer(64, 3)\n",
    "NN.train(train, 0, 100)"
   ]
  },
  {
   "cell_type": "code",
   "execution_count": null,
   "id": "developed-drinking",
   "metadata": {},
   "outputs": [],
   "source": []
  },
  {
   "cell_type": "code",
   "execution_count": null,
   "id": "incredible-brief",
   "metadata": {},
   "outputs": [],
   "source": []
  }
 ],
 "metadata": {
  "kernelspec": {
   "display_name": "Python 3",
   "language": "python",
   "name": "python3"
  },
  "language_info": {
   "codemirror_mode": {
    "name": "ipython",
    "version": 3
   },
   "file_extension": ".py",
   "mimetype": "text/x-python",
   "name": "python",
   "nbconvert_exporter": "python",
   "pygments_lexer": "ipython3",
   "version": "3.8.5"
  }
 },
 "nbformat": 4,
 "nbformat_minor": 5
}
