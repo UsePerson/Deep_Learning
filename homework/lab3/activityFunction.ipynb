{
 "cells": [
  {
   "cell_type": "code",
   "execution_count": 1,
   "id": "important-authentication",
   "metadata": {},
   "outputs": [],
   "source": [
    "import numpy as np\n"
   ]
  },
  {
   "cell_type": "code",
   "execution_count": 8,
   "id": "acquired-kernel",
   "metadata": {},
   "outputs": [],
   "source": [
    "\n",
    "class ActivationFunction:\n",
    "    \n",
    "    def __init__(self, types='Sigmoid'):\n",
    "        \n",
    "        self.func = self.Sigmoid\n",
    "        self.dfunc = self.dSigmoid\n",
    "        \n",
    "        if types == 'Sigmoid':\n",
    "            \n",
    "            self.func = self.Sigmoid\n",
    "            self.dfunc = self.dSigmoid\n",
    "            \n",
    "        elif types == 'Sign':\n",
    "            \n",
    "            pass\n",
    "        \n",
    "        \n",
    "        \n",
    "        \n",
    "    def Sigmoid(self, x):\n",
    "        for i in range(x.shape[0]):\n",
    "            if x[i]<-709.0:\n",
    "                x[i]=-100.0\n",
    "            elif i>100.0:\n",
    "                x[i]=100.0\n",
    "        return 1 / (1 + np.exp(-x))\n",
    "    \n",
    "    def dSigmoid(self, a):\n",
    "        \n",
    "        return np.multiply(a, (1 - a))\n",
    "    \n",
    "if __name__ == '__main__':\n",
    "    \n",
    "    myfunc = ActivationFunction('Sigmoid')\n",
    "    \n",
    "    \n"
   ]
  },
  {
   "cell_type": "code",
   "execution_count": 7,
   "id": "excellent-product",
   "metadata": {},
   "outputs": [
    {
     "data": {
      "text/plain": [
       "<__main__.ActivationFunction at 0x7fb4f0dada30>"
      ]
     },
     "execution_count": 7,
     "metadata": {},
     "output_type": "execute_result"
    }
   ],
   "source": []
  },
  {
   "cell_type": "code",
   "execution_count": null,
   "id": "german-thailand",
   "metadata": {},
   "outputs": [],
   "source": []
  }
 ],
 "metadata": {
  "kernelspec": {
   "display_name": "Python 3",
   "language": "python",
   "name": "python3"
  },
  "language_info": {
   "codemirror_mode": {
    "name": "ipython",
    "version": 3
   },
   "file_extension": ".py",
   "mimetype": "text/x-python",
   "name": "python",
   "nbconvert_exporter": "python",
   "pygments_lexer": "ipython3",
   "version": "3.8.5"
  }
 },
 "nbformat": 4,
 "nbformat_minor": 5
}
