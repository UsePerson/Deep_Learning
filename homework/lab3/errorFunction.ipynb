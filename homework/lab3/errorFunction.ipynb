{
 "cells": [
  {
   "cell_type": "code",
   "execution_count": 1,
   "id": "developed-validity",
   "metadata": {},
   "outputs": [],
   "source": [
    "import numpy as np"
   ]
  },
  {
   "cell_type": "code",
   "execution_count": 8,
   "id": "sapphire-involvement",
   "metadata": {},
   "outputs": [],
   "source": [
    "\n",
    "class ErrorFunction:\n",
    "    \n",
    "    def __init__(self, types='cross_entropy'):\n",
    "        \n",
    "        self.func = self.cross_entropy\n",
    "        self.dfunc = self.dcross_entropy\n",
    "        \n",
    "        if types == 'MSE':\n",
    "            self.func = self.MSE\n",
    "            self.dfunc = self.dMSE\n",
    "            \n",
    "            \n",
    "    def cross_entropy(self, ans, output):\n",
    "        \n",
    "        return -( ans * np.log(output) + (1 - ans) * np.log(1 - output) )\n",
    "    \n",
    "    def dcross_entropy(self, ans, output):\n",
    "        \n",
    "        return - (ans - output) / (output * (1 - output))\n",
    "    \n",
    "    def MSE(self, ans, output):\n",
    "        \n",
    "        return ((ans - output)**2)/2\n",
    "    \n",
    "    def dMSE(self, ans, output):\n",
    "        \n",
    "        return -(ans - output)\n",
    "    \n",
    "if __name__ == '__main__':\n",
    "    \n",
    "    myfunc = ErrorFunction('cross_entropy')"
   ]
  },
  {
   "cell_type": "code",
   "execution_count": null,
   "id": "seasonal-amount",
   "metadata": {},
   "outputs": [],
   "source": []
  },
  {
   "cell_type": "code",
   "execution_count": null,
   "id": "nervous-allah",
   "metadata": {},
   "outputs": [],
   "source": []
  }
 ],
 "metadata": {
  "kernelspec": {
   "display_name": "Python 3",
   "language": "python",
   "name": "python3"
  },
  "language_info": {
   "codemirror_mode": {
    "name": "ipython",
    "version": 3
   },
   "file_extension": ".py",
   "mimetype": "text/x-python",
   "name": "python",
   "nbconvert_exporter": "python",
   "pygments_lexer": "ipython3",
   "version": "3.8.5"
  }
 },
 "nbformat": 4,
 "nbformat_minor": 5
}
